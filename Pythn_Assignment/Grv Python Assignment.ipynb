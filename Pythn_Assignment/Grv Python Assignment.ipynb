{
 "cells": [
  {
   "cell_type": "code",
   "execution_count": null,
   "id": "d7a07405-270e-4148-8384-e6c1fe4fa4c3",
   "metadata": {},
   "outputs": [],
   "source": [
    "\"\"\"\n",
    "1) What are the types of Applications?\n",
    "Ans- There are many types of appication like Database apps, Custom apps, Web-based apps, Low code apps, No code apps, Enterprise apps etc.\n",
    "\n",
    "2) What is programing?\n",
    "Ans- Programming refers to a technological process for telling a computer which tasks to perform in order to solve problems,\n",
    "\n",
    "3) what is python?\n",
    "Ans- Python is an interpreted, object-oriented, high-level programming \n",
    "language with dynamic semantics.\n",
    "\"\"\""
   ]
  },
  {
   "cell_type": "code",
   "execution_count": 7,
   "id": "ecb37ed7-2669-490c-bf06-e2d886e3b7d7",
   "metadata": {},
   "outputs": [
    {
     "name": "stdin",
     "output_type": "stream",
     "text": [
      "Enter a number 0\n"
     ]
    },
    {
     "name": "stdout",
     "output_type": "stream",
     "text": [
      "zero\n"
     ]
    }
   ],
   "source": [
    "#4) Write a Python program to check if a number is positive, negative or zero.\n",
    "Num = int(input(\"Enter a number\"))\n",
    "if Num < 0:\n",
    "    print(\"negative\")\n",
    "\n",
    "elif Num == 0:\n",
    "    print(\"zero\")\n",
    "\n",
    "else :\n",
    "    print(\"positive\")"
   ]
  },
  {
   "cell_type": "code",
   "execution_count": 1,
   "id": "b6c95c53-7c5e-4fbb-a03d-ac169f1389af",
   "metadata": {},
   "outputs": [
    {
     "name": "stdin",
     "output_type": "stream",
     "text": [
      "Enter a Number :  5\n"
     ]
    },
    {
     "name": "stdout",
     "output_type": "stream",
     "text": [
      "120\n"
     ]
    }
   ],
   "source": [
    "#5)Write a Python program to get the Factorial number of given numbers. \n",
    "N = int(input(\"Enter a Number : \"))\n",
    "Fact = 1\n",
    "if N < 0:\n",
    "    print(\"Invalid\")\n",
    "\n",
    "elif N == 0:\n",
    "    print(\"The Factorial of 0 is 1\")\n",
    "\n",
    "else :\n",
    "    while N > 1:\n",
    "        Fact *= N\n",
    "        N -= 1\n",
    "print(Fact)"
   ]
  },
  {
   "cell_type": "code",
   "execution_count": 1,
   "id": "e602c438-4b69-4235-88ad-2debc5b3ea72",
   "metadata": {},
   "outputs": [
    {
     "name": "stdin",
     "output_type": "stream",
     "text": [
      "Enter a number:  8\n"
     ]
    },
    {
     "name": "stdout",
     "output_type": "stream",
     "text": [
      "Fibonacci series up to 8 is: 0 1 1 2 3 5 "
     ]
    }
   ],
   "source": [
    "#6)Write a Python program to get the Fibonacci series of given range. \n",
    "a, b = 0, 1\n",
    "n = int(input(\"Enter a number: \"))\n",
    "print(\"Fibonacci series up to\", n, \"is:\", end=\" \")\n",
    "while a < n:\n",
    "    print(a, end=\" \")\n",
    "    a, b = b, a + b"
   ]
  },
  {
   "cell_type": "code",
   "execution_count": null,
   "id": "ab244d58-82a2-48e1-8294-0a175fb53512",
   "metadata": {},
   "outputs": [],
   "source": [
    "#7)How memory is managed in Python?\n",
    "#Ans- We can classify memory management in Python in one of two ways: dynamic allocation or static allocation."
   ]
  },
  {
   "cell_type": "code",
   "execution_count": null,
   "id": "89a2e0d8-bd3a-49cd-a626-b96cd0068c39",
   "metadata": {},
   "outputs": [],
   "source": [
    "#8)What is the purpose continuing statement in python? \n",
    "#Ans- The continue statement is used to skip the remaining code inside a loop for the current iteration only"
   ]
  },
  {
   "cell_type": "code",
   "execution_count": 48,
   "id": "ee2e3dce-93e2-4dd1-beb7-d204a8efde4a",
   "metadata": {},
   "outputs": [
    {
     "name": "stdin",
     "output_type": "stream",
     "text": [
      "Enter first number:  3\n",
      "Enter second number:  5\n"
     ]
    },
    {
     "name": "stdout",
     "output_type": "stream",
     "text": [
      "Before swapping:\n",
      "num1 = 3\n",
      "num2 = 5\n",
      "After swapping:\n",
      "num1 = 5\n",
      "num2 = 3\n"
     ]
    }
   ],
   "source": [
    "#9) Write python program that swap two number with temp variable and without temp variable.\n",
    "# input two numbers\n",
    "num1 = int(input(\"Enter first number: \"))\n",
    "num2 = int(input(\"Enter second number: \"))\n",
    "\n",
    "print(\"Before swapping:\")\n",
    "print(\"num1 =\", num1)\n",
    "print(\"num2 =\", num2)\n",
    "\n",
    "# swap using a temporary variable\n",
    "temp = num1\n",
    "num1 = num2\n",
    "num2 = temp\n",
    "\n",
    "print(\"After swapping:\")\n",
    "print(\"num1 =\", num1)\n",
    "print(\"num2 =\", num2)"
   ]
  },
  {
   "cell_type": "code",
   "execution_count": 52,
   "id": "2a261376-93aa-4896-8737-5173f1d1f47c",
   "metadata": {},
   "outputs": [
    {
     "name": "stdin",
     "output_type": "stream",
     "text": [
      "Enter a number:  2\n"
     ]
    },
    {
     "name": "stdout",
     "output_type": "stream",
     "text": [
      "2 is an even number.\n"
     ]
    }
   ],
   "source": [
    "#10) Write a Python program to find whether a given number is even or odd, print out an appropriate message to the user. \n",
    "num = int(input(\"Enter a number: \"))\n",
    "\n",
    "# Check if the number is even or odd\n",
    "if num % 2 == 0:\n",
    "    print(f\"{num} is an even number.\")\n",
    "else:\n",
    "    print(f\"{num} is an odd number.\")"
   ]
  },
  {
   "cell_type": "code",
   "execution_count": 5,
   "id": "4b69a74c-3514-4f7b-8386-948dfbc193e6",
   "metadata": {},
   "outputs": [
    {
     "name": "stdin",
     "output_type": "stream",
     "text": [
      "Enter a letter:  w\n"
     ]
    },
    {
     "name": "stdout",
     "output_type": "stream",
     "text": [
      "w is not a vowel.\n"
     ]
    }
   ],
   "source": [
    "#11) Write a Python program to test whether a passed letter is a vowel or not.\n",
    "def is_vowel(letter):\n",
    "    \"\"\"\n",
    "    Returns True if the letter is a vowel, False otherwise.\n",
    "    \"\"\"\n",
    "    vowels = 'aeiouAEIOU'\n",
    "    return letter in vowels\n",
    "\n",
    "# Test the function\n",
    "letter = input(\"Enter a letter: \")\n",
    "\n",
    "if is_vowel(letter):\n",
    "    print(f\"{letter} is a vowel.\")\n",
    "else:\n",
    "    print(f\"{letter} is not a vowel.\")"
   ]
  },
  {
   "cell_type": "code",
   "execution_count": 60,
   "id": "86315e4f-66e4-4209-bc4d-c5ac53a458f9",
   "metadata": {},
   "outputs": [
    {
     "name": "stdin",
     "output_type": "stream",
     "text": [
      "Enter first integer:  2\n",
      "Enter second integer:  2\n",
      "Enter third integer:  5\n"
     ]
    },
    {
     "name": "stdout",
     "output_type": "stream",
     "text": [
      "0\n",
      "The sum of 2, 2, and 5 is None.\n"
     ]
    }
   ],
   "source": [
    "#12) Write a Python program to sum of three given integers. However, if two values are equal sum will be zero.\n",
    "def sum_three(a, b, c):\n",
    "    \"\"\"\n",
    "    Returns the sum of three integers, but if two values are equal, returns 0.\n",
    "    \"\"\"\n",
    "    if a == b or b == c or a == c:\n",
    "        print(0)\n",
    "    else:\n",
    "        print(a + b + c)\n",
    "\n",
    "# Test the function\n",
    "a = int(input(\"Enter first integer: \"))\n",
    "b = int(input(\"Enter second integer: \"))\n",
    "c = int(input(\"Enter third integer: \"))\n",
    "\n",
    "result = sum_three(a, b, c)\n",
    "\n",
    "print(f\"The sum of {a}, {b}, and {c} is {result}.\")"
   ]
  },
  {
   "cell_type": "code",
   "execution_count": 5,
   "id": "82f68f93-abb3-47a6-8a1a-0be4ed9184a2",
   "metadata": {},
   "outputs": [
    {
     "name": "stdin",
     "output_type": "stream",
     "text": [
      "enter a number 2\n",
      "enter a number 2\n"
     ]
    },
    {
     "name": "stdout",
     "output_type": "stream",
     "text": [
      "true\n"
     ]
    }
   ],
   "source": [
    "#13) Write a Python program that will return true if the two given integer values are equal or their sum or difference is 5. \n",
    "a = int(input(\"enter a number\"))\n",
    "b = int(input(\"enter a number\"))\n",
    "\n",
    "if a == b or a+b==5 or a-b==5:\n",
    "    print(\"true\")\n",
    "\n",
    "else:\n",
    "    print(\"false\")"
   ]
  },
  {
   "cell_type": "code",
   "execution_count": 7,
   "id": "df59c491-0cfc-49af-9bea-d5b2616a4b25",
   "metadata": {},
   "outputs": [
    {
     "name": "stdin",
     "output_type": "stream",
     "text": [
      "enter a number 10\n"
     ]
    },
    {
     "name": "stdout",
     "output_type": "stream",
     "text": [
      "55\n"
     ]
    }
   ],
   "source": [
    "#14)Write a python program to sum of the first n positive integers.\n",
    "n = int(input(\"enter a number\"))\n",
    "sum = 0\n",
    "\n",
    "for i in range(1,n+1):\n",
    "    sum += i\n",
    "print(sum)"
   ]
  },
  {
   "cell_type": "code",
   "execution_count": 9,
   "id": "600fc665-68ce-4b16-b125-5b3a1bbbe98b",
   "metadata": {},
   "outputs": [
    {
     "name": "stdin",
     "output_type": "stream",
     "text": [
      "enter a string gaurav\n"
     ]
    },
    {
     "data": {
      "text/plain": [
       "6"
      ]
     },
     "execution_count": 9,
     "metadata": {},
     "output_type": "execute_result"
    }
   ],
   "source": [
    "#15)Write a Python program to calculate the length of a string. \n",
    "r = str(input(\"enter a string\"))\n",
    "len(r)"
   ]
  },
  {
   "cell_type": "code",
   "execution_count": 5,
   "id": "e77b071c-ed03-4d84-acc7-7f8e8b46e1e7",
   "metadata": {},
   "outputs": [
    {
     "name": "stdin",
     "output_type": "stream",
     "text": [
      "enter a string gourgesge\n"
     ]
    },
    {
     "data": {
      "text/plain": [
       "3"
      ]
     },
     "execution_count": 5,
     "metadata": {},
     "output_type": "execute_result"
    }
   ],
   "source": [
    "#16) Write a Python program to count the number of characters (character frequency) in a string \n",
    "r = str(input(\"enter a string : \"))\n",
    "r.count(\"g\")"
   ]
  },
  {
   "cell_type": "code",
   "execution_count": null,
   "id": "9114b378-479c-4ceb-8edd-7799eddcd182",
   "metadata": {},
   "outputs": [],
   "source": [
    "\"\"\"17)What are negative indexes and why are they used? \n",
    "Ans- In Python, negative indexes are used to access elements from the end of a sequence (such as a list, tuple, or string) instead of from the beginning..\n",
    "     When we use a negative index, Python counts from the end of the sequence, starting from -1.\"\"\""
   ]
  },
  {
   "cell_type": "code",
   "execution_count": 17,
   "id": "01ba3aa8-d316-4f24-a850-cbe115431174",
   "metadata": {},
   "outputs": [
    {
     "name": "stdin",
     "output_type": "stream",
     "text": [
      "Enter a string:  gaurav gaurav gaurav\n",
      "Enter a substring:  gau\n"
     ]
    },
    {
     "name": "stdout",
     "output_type": "stream",
     "text": [
      "The substring 'gau' appears 3 times in the string.\n"
     ]
    }
   ],
   "source": [
    "\"\"\"18)Write a Python program to count occurrences of a substring in a string.\"\"\"\n",
    "string = input(\"Enter a string: \")\n",
    "substring = input(\"Enter a substring: \")\n",
    "\n",
    "count = 0\n",
    "for i in range(len(string)):\n",
    "    if string[i:i+len(substring)] == substring:\n",
    "        count +=1\n",
    "print(f\"The substring '{substring}' appears {count} times in the string.\")        "
   ]
  },
  {
   "cell_type": "code",
   "execution_count": 19,
   "id": "c8116d00-95e5-4c69-81f3-82aba34b2c26",
   "metadata": {},
   "outputs": [
    {
     "name": "stdin",
     "output_type": "stream",
     "text": [
      "Enter a string:  gaurav suthar\n",
      "Enter a word:  a\n"
     ]
    },
    {
     "name": "stdout",
     "output_type": "stream",
     "text": [
      "The word 'a' appears 3 times in the string.\n"
     ]
    }
   ],
   "source": [
    "\"\"\"19) Write a Python program to count the occurrences of each word in a given sentence?\"\"\"\n",
    "string = input(\"Enter a string: \")\n",
    "word = input(\"Enter a word: \")\n",
    "\n",
    "count = 0\n",
    "for i in range(len(string)):\n",
    "    if string[i:i+len(word)] == word:\n",
    "        count +=1\n",
    "print(f\"The word '{word}' appears {count} times in the string.\")\n"
   ]
  },
  {
   "cell_type": "code",
   "execution_count": 21,
   "id": "59dad883-bfb3-4f3d-a1b9-d0c26e1cfeb3",
   "metadata": {},
   "outputs": [
    {
     "name": "stdin",
     "output_type": "stream",
     "text": [
      "Enter the first string:  gaurav\n",
      "Enter the first string:  suthar\n"
     ]
    },
    {
     "name": "stdout",
     "output_type": "stream",
     "text": [
      "The combined and swapped string is: agurav usthar\n"
     ]
    }
   ],
   "source": [
    "\"\"\"20) Write a Python program to get a single string from two given strings, separated by a space and swap the first two characters of each string.\n",
    "we have the two strings from input. \"\"\"\n",
    "str1 = str(input(\"Enter the first string: \"))\n",
    "str2 = str(input(\"Enter the second string: \"))\n",
    "\n",
    "# Combine the two strings into one, separated by a space\n",
    "comb_str = str1 + \" \" + str2\n",
    "\n",
    "# Swap the first two characters\n",
    "if len(str1) > 1:\n",
    "    str1_swapped = str1[1] + str1[0] + str1[2:]\n",
    "else:\n",
    "    str1_swapped = str1\n",
    "\n",
    "if len(str2) > 1:\n",
    "    str2_swapped = str2[1] + str2[0] + str2[2:]\n",
    "else:\n",
    "    str2_swapped = str2\n",
    "\n",
    "# Combine the swapped strings into one, separated by a space\n",
    "result = str1_swapped + \" \" + str2_swapped\n",
    "\n",
    "#result\n",
    "print(\"The combined and swapped string is:\", result)"
   ]
  },
  {
   "cell_type": "code",
   "execution_count": 27,
   "id": "51984769-ad9d-4158-b85b-fffe32da8076",
   "metadata": {},
   "outputs": [
    {
     "name": "stdin",
     "output_type": "stream",
     "text": [
      "Enter a string:  going\n"
     ]
    },
    {
     "name": "stdout",
     "output_type": "stream",
     "text": [
      "The modified string is: goingly\n"
     ]
    }
   ],
   "source": [
    "\"\"\"21) Write a Python program to add 'in' at the end of a given string (length should be at least 3). If the given string already ends with 'ing' then\n",
    "add 'ly' instead if the string length of the given string is less than 3, leave it unchanged. \n",
    "#Ans-\"\"\" \n",
    "str = input(\"Enter a string: \")\n",
    "\n",
    "# Check the length of the input string\n",
    "if len(str) < 3:                        # If the length is less than 3, leave the string unchanged\n",
    "    result = str\n",
    "else:                                         # Check if the string already ends with 'ing'\n",
    "    if str.endswith('ing'):             # If it does, add 'ly' to the end\n",
    "        result = str + 'ly'\n",
    "    else:                                     # If it doesn't, add 'in' to the end\n",
    "        result = str + 'in'\n",
    "\n",
    "print(\"The modified string is:\", result)"
   ]
  },
  {
   "cell_type": "code",
   "execution_count": 1,
   "id": "529d44cb-2f60-4ad4-ad60-adc57d6eb68b",
   "metadata": {},
   "outputs": [
    {
     "name": "stdin",
     "output_type": "stream",
     "text": [
      "enter a string :  gauravst\n"
     ]
    },
    {
     "name": "stdout",
     "output_type": "stream",
     "text": [
      "tsvaruag\n"
     ]
    }
   ],
   "source": [
    "\"\"\"22) Write a Python function to reverses a string if its length is a multiple of 4.\n",
    "\"\"\"\n",
    "s = str(input(\"enter a string : \"))\n",
    "    # Check if the length of the string is a multiple of 4\n",
    "if len(s) % 4 == 0:\n",
    "        # Reverse the string using slicing\n",
    "    reversed_s = s[::-1]\n",
    "    print(reversed_s)\n",
    "else:\n",
    "        # Return the original string if its length is not a multiple of 4\n",
    "        print(s)"
   ]
  },
  {
   "cell_type": "code",
   "execution_count": 81,
   "id": "ed189c6e-ad96-4fea-aadb-abe634cd8712",
   "metadata": {},
   "outputs": [
    {
     "name": "stdin",
     "output_type": "stream",
     "text": [
      "enter a string tops\n"
     ]
    },
    {
     "name": "stdout",
     "output_type": "stream",
     "text": [
      "tops\n"
     ]
    }
   ],
   "source": [
    "\"\"\"23) Write a Python program to get a string made of the first 2 and the last 2 chars from a given a string. If the string length is less than 2, return \n",
    "instead of the empty string.\"\"\" \n",
    "s = str(input(\"enter a string\"))\n",
    "\n",
    " #Check if the length of the string is less than 2\n",
    "if len(s) < 2:\n",
    "    print(\"empty\")\n",
    "\n",
    "else:\n",
    "    # Get the first 2 characters\n",
    "    first_two = s[:2]\n",
    "    # Get the last 2 characters\n",
    "    last_two = s[-2:]\n",
    "    # Combine the first 2 and last 2 characters\n",
    "    result = first_two + last_two\n",
    "    \n",
    "    print(result)"
   ]
  },
  {
   "cell_type": "code",
   "execution_count": 91,
   "id": "6686d6ba-b020-4f2e-bbc6-ec238530c231",
   "metadata": {},
   "outputs": [
    {
     "name": "stdin",
     "output_type": "stream",
     "text": [
      "enter a string gaurav suthar\n",
      "enter a string ab\n"
     ]
    },
    {
     "name": "stdout",
     "output_type": "stream",
     "text": [
      "gauravab suthar\n"
     ]
    }
   ],
   "source": [
    "\"\"\"24) Write a Python function to insert a string in the middle of a string. \"\"\"\n",
    "str1 = str(input(\"enter a string\"))\n",
    "str2 = str(input(\"enter a string\"))\n",
    "\n",
    "str1_length = len(str1)\n",
    "\n",
    "middle_index = str1_length // 2\n",
    "new_str = str1[:middle_index] + str2 + str1[middle_index:]\n",
    "\n",
    "print(new_str)\n",
    "\n",
    "\n"
   ]
  },
  {
   "cell_type": "code",
   "execution_count": null,
   "id": "d27809af-bade-4513-9e5e-ea2b482aefb7",
   "metadata": {},
   "outputs": [],
   "source": [
    "\"\"\"25) What is List? How will you reverse a list?\n",
    "Ans- In Python, a List is a collection of items that can be of any data type, including strings, integers, floats, and other lists. Lists are denoted by\n",
    "square brackets [] and are ordered, meaning that the order of the items in the list matters. Lists are also mutable, meaning that they can be modified \n",
    "after they are created.\n",
    "'reverse()' function used to reverse any list order first element to last and last element to first.\n",
    "\"\"\"\n"
   ]
  },
  {
   "cell_type": "code",
   "execution_count": null,
   "id": "0a52e90a-9561-448b-8276-87da1975fdec",
   "metadata": {},
   "outputs": [],
   "source": [
    "\"\"\"26) How will you remove last object from a list?\n",
    "Ans- by using the 'pop()' function we can remove last object from a list.\n",
    "\"\"\""
   ]
  },
  {
   "cell_type": "code",
   "execution_count": null,
   "id": "993eb45d-e8e9-4e55-9a50-6fd27693493b",
   "metadata": {},
   "outputs": [],
   "source": [
    "\"\"\"27) Suppose list1 is [2, 33, 222, 14, and 25], what is list1 [-1]?\n",
    "Ans- list1[-1] is 25\n",
    "\"\"\""
   ]
  },
  {
   "cell_type": "code",
   "execution_count": null,
   "id": "362d6c4a-4490-46d0-9a2c-2bd5fe9329e1",
   "metadata": {},
   "outputs": [],
   "source": [
    "\"\"\"28) Differentiate between append () and extend () methods?\n",
    "Ans- The append() method is used for adding single element at the last of a list because extend() method is used for adding multiple type element or \n",
    "    other list in the main list.\n",
    "\"\"\""
   ]
  },
  {
   "cell_type": "code",
   "execution_count": 1,
   "id": "f7a12663-b000-4a9c-9036-27729f48b710",
   "metadata": {},
   "outputs": [
    {
     "name": "stdout",
     "output_type": "stream",
     "text": [
      "largest number :  89\n",
      "smallest number : 24\n",
      "Total :  204\n"
     ]
    }
   ],
   "source": [
    "\"\"\"29) Write a Python function to get the largest number, smallest num and sum of all from a list. \"\"\"\n",
    "numbers = [89 , 50 , 24 , 41 ]\n",
    "largest = max(numbers)\n",
    "smallest = min(numbers)\n",
    "total = sum(numbers)\n",
    "print(\"largest number : \" ,largest)\n",
    "print(\"smallest number :\" ,smallest)\n",
    "print(\"Total : \" , total)"
   ]
  },
  {
   "cell_type": "code",
   "execution_count": 15,
   "id": "ccceb8c1-ea75-4a32-9fe8-3ccdceff0f82",
   "metadata": {},
   "outputs": [
    {
     "name": "stdout",
     "output_type": "stream",
     "text": [
      "List1 is a subset of List2\n"
     ]
    }
   ],
   "source": [
    "\"\"\"30) How will you compare two lists? \"\"\"\n",
    "list1 = [1, 2, 3]\n",
    "list2 = [1, 2, 3, 4, 5]\n",
    "\n",
    "if all(n in list2 for n in list1):\n",
    "    print(\"List1 is a subset of List2\")\n",
    "else:\n",
    "    print(\"List1 is not a subset of List2\")\n"
   ]
  },
  {
   "cell_type": "code",
   "execution_count": 21,
   "id": "4867e615-e0d0-47e4-ba07-976db5581051",
   "metadata": {},
   "outputs": [
    {
     "name": "stdout",
     "output_type": "stream",
     "text": [
      "Number of strings with same first and last character: 4\n"
     ]
    }
   ],
   "source": [
    "\"\"\"31) Write a Python program to count the number of strings where the string length is 2 or more and the first and last character are same from a \n",
    "given list of strings.\"\"\"\n",
    "\n",
    "strings = [\"aba\", \"xyz\", \"cdc\", \"hello\", \"world\", \"madam\", \"abc\",\"gang\"]\n",
    "\n",
    "count = 0\n",
    "\n",
    "for n in strings:                             # if the string length is 2 or more\n",
    "    if len(n) >= 2:                           # if the first and last character are the same\n",
    "        if n[0] == n[-1]:                     # If both conditions are true, increment the counter\n",
    "            count += 1\n",
    "\n",
    "print(\"Number of strings with same first and last character:\", count)                # Print the result"
   ]
  },
  {
   "cell_type": "code",
   "execution_count": 25,
   "id": "510ce9eb-c2c9-4d37-aa29-d99d06024a56",
   "metadata": {},
   "outputs": [
    {
     "name": "stdout",
     "output_type": "stream",
     "text": [
      "Original list: [1, 2, 2, 3, 4, 4, 5, 6, 6, 7, 8, 8, 9]\n",
      "List after removing duplicates: [1, 2, 3, 4, 5, 6, 7, 8, 9]\n"
     ]
    }
   ],
   "source": [
    " \"\"\"32) Write a Python program to remove duplicates from a list.\"\"\"\n",
    "\n",
    "my_list = [1, 2, 2, 3, 4, 4, 5, 6, 6, 7, 8, 8, 9]\n",
    "duplli = []\n",
    "\n",
    "for n in my_list:                                         # Iterate over each element in the original list\n",
    "    if n not in duplli :                                  # if the element is not already in the unique list\n",
    "        duplli.append(n)                                  # Add the element to the unique list\n",
    "\n",
    "# Print the original list and the list after removing duplicates\n",
    "print(\"Original list:\", my_list)\n",
    "print(\"List after removing duplicates:\", duplli)\n"
   ]
  },
  {
   "cell_type": "code",
   "execution_count": 27,
   "id": "8557caa2-e8b4-40e8-b9c6-fe7da1935fa3",
   "metadata": {},
   "outputs": [
    {
     "name": "stdout",
     "output_type": "stream",
     "text": [
      "The list is empty.\n"
     ]
    }
   ],
   "source": [
    "\"\"\"33) Write a Python program to check a list is empty or not.\"\"\"\n",
    "\n",
    "list = []\n",
    "\n",
    "# Check if the list is empty\n",
    "if not list:\n",
    "    print(\"The list is empty.\")\n",
    "else:\n",
    "    print(\"The list is not empty.\")"
   ]
  },
  {
   "cell_type": "code",
   "execution_count": 18,
   "id": "4546a47e-5d84-4141-a7ab-e7bcb7a5efb5",
   "metadata": {},
   "outputs": [
    {
     "name": "stdout",
     "output_type": "stream",
     "text": [
      "True\n"
     ]
    }
   ],
   "source": [
    "\"\"\"34) Write a Python function that takes two lists and returns true if they have at least one common member.\"\"\"\n",
    "def have_common_member(list1, list2):\n",
    "    print(any(element in list2 for element in list1))\n",
    "list1 = [1,2,3,4,5]\n",
    "list2 = [4,6,7,8,9]\n",
    "have_common_member(list1, list2)\n"
   ]
  },
  {
   "cell_type": "code",
   "execution_count": 22,
   "id": "04f0c5b9-718b-49d2-a835-9bd1ef76b536",
   "metadata": {},
   "outputs": [
    {
     "name": "stdout",
     "output_type": "stream",
     "text": [
      "First 5 elements:\n",
      "[1, 4, 9, 16, 25]\n",
      "Last 5 elements:\n",
      "[676, 729, 784, 841, 900]\n"
     ]
    }
   ],
   "source": [
    "\"\"\"35) Write a Python program to generate and print a list of first and last 5 elements where the values are square of numbers between 1 and 30.\"\"\"\n",
    "squares = []\n",
    "\n",
    "for i in range(1, 31):                                               # Loop through numbers from 1 to 30\n",
    "    square = i ** 2                                                  # Calculate the square of the number\n",
    "    squares.append(square)                                           # Append the square to the list\n",
    "\n",
    "print(\"First 5 elements:\")                                           # Print the first 5 elements of the list\n",
    "print(squares[:5])\n",
    "\n",
    "print(\"Last 5 elements:\")                                            # Print the last 5 elements of the list\n",
    "print(squares[-5:])"
   ]
  },
  {
   "cell_type": "code",
   "execution_count": 31,
   "id": "9fd9165a-7530-46c9-9bdc-72d41084574e",
   "metadata": {},
   "outputs": [
    {
     "name": "stdout",
     "output_type": "stream",
     "text": [
      "[1, 2, 3, 4, 5, 6, 9]\n"
     ]
    }
   ],
   "source": [
    "\"\"\"36) Write a Python function that takes a list and returns a new list with unique elements of the first list.\"\"\"\n",
    "list1 = [1,2,3,2,3,4,5,4,5,6,5,4,3,9]\n",
    "list2 = []\n",
    "\n",
    "for element in list1:\n",
    "    if element not in list2:\n",
    "        list2.append(element)\n",
    "print(list2)\n",
    "            "
   ]
  },
  {
   "cell_type": "code",
   "execution_count": 51,
   "id": "0b953ae2-4b8e-4c68-aec6-5374a245914d",
   "metadata": {},
   "outputs": [
    {
     "name": "stdout",
     "output_type": "stream",
     "text": [
      "gaurav aman anup eric\n",
      "None\n"
     ]
    }
   ],
   "source": [
    "\"\"\"37) Write a Python program to convert a list of characters into a string.\"\"\"\n",
    "def list_to_string(a):\n",
    "    print(\" \".join(a))\n",
    "\n",
    "a = [\"gaurav\",\"aman\",\"anup\",\"eric\"]\n",
    "print(list_to_string(a))"
   ]
  },
  {
   "cell_type": "code",
   "execution_count": 67,
   "id": "793e39e9-2af8-4347-897d-3e18ae1d2609",
   "metadata": {},
   "outputs": [
    {
     "name": "stdout",
     "output_type": "stream",
     "text": [
      "9\n",
      "None\n"
     ]
    }
   ],
   "source": [
    "\"\"\"38) Write a Python program to select an item randomly from a list. \"\"\"\n",
    "import random\n",
    "\n",
    "def select_random_item(lst):\n",
    "    print(random.choice(lst))\n",
    "lst = [1,2,2,3,4,7,9]\n",
    "print(select_random_item(lst))"
   ]
  },
  {
   "cell_type": "code",
   "execution_count": 79,
   "id": "ec3995cd-9813-4d9a-94f1-fb9bba48b8ea",
   "metadata": {},
   "outputs": [
    {
     "name": "stdout",
     "output_type": "stream",
     "text": [
      "3\n",
      "None\n"
     ]
    }
   ],
   "source": [
    "\"\"\"39) Write a Python program to find the second smallest number in a list.\"\"\"\n",
    "def second_smallest(lst):\n",
    "    if len(lst) < 2:\n",
    "        print(\"None\")\n",
    "    lst = list(set(lst))  # remove duplicates\n",
    "    lst.sort()\n",
    "    print(lst[1])\n",
    "\n",
    "lst = [11,34,3,6,9,8,6,2,88]\n",
    "print(second_smallest(lst))"
   ]
  },
  {
   "cell_type": "code",
   "execution_count": 85,
   "id": "716f1cdc-835b-4c8a-ac32-9c81a53842bf",
   "metadata": {},
   "outputs": [
    {
     "name": "stdout",
     "output_type": "stream",
     "text": [
      "[1, 2, 3, 4, 5, 6]\n",
      "None\n"
     ]
    }
   ],
   "source": [
    "\"\"\"40) Write a Python program to get unique values from a list \"\"\"\n",
    "def get_unique_values(lst):\n",
    "    print(list(set(lst)))\n",
    "\n",
    "lst = [1,2,3,4,5,6,5,6,3,2,3,1]\n",
    "print(get_unique_values(lst))"
   ]
  },
  {
   "cell_type": "code",
   "execution_count": 91,
   "id": "892cdaa9-ba67-49e6-b96b-ffed76000af0",
   "metadata": {},
   "outputs": [
    {
     "name": "stdout",
     "output_type": "stream",
     "text": [
      "True\n"
     ]
    }
   ],
   "source": [
    "\"\"\"41) Write a Python program to check whether a list contains a sub list \"\"\"\n",
    "\n",
    "def contains_sublist(lst, sublst):\n",
    "    lst_str = ''.join(str(x) for x in lst)\n",
    "    sublst_str = ''.join(str(x) for x in sublst)\n",
    "    return sublst_str in lst_str\n",
    "lst = [2,3,4,2,2,3,2,4]\n",
    "sublst = [2,3,4]\n",
    "\n",
    "print(contains_sublist(lst, sublst))"
   ]
  },
  {
   "cell_type": "code",
   "execution_count": 1,
   "id": "075a36c2-2921-419d-8685-0b437e6de777",
   "metadata": {},
   "outputs": [
    {
     "name": "stdout",
     "output_type": "stream",
     "text": [
      "a = 1\n",
      "b = 2\n",
      "c = 3\n",
      "d = 4\n",
      "e = 5\n"
     ]
    }
   ],
   "source": [
    "\"\"\"42) Write a Python program to split a list into different variables.\"\"\"\n",
    "my_list = [1, 2, 3, 4, 5]\n",
    "\n",
    "a, b, c, d, e = my_list                   # Split the list into different variables\n",
    "\n",
    "# Print the variables\n",
    "print(\"a =\", a)\n",
    "print(\"b =\", b)\n",
    "print(\"c =\", c)\n",
    "print(\"d =\", d)\n",
    "print(\"e =\", e)"
   ]
  },
  {
   "cell_type": "code",
   "execution_count": null,
   "id": "54540d14-bc16-429f-979a-fa11bac5d3e2",
   "metadata": {},
   "outputs": [],
   "source": [
    "\"\"\"43) What is tuple? Difference between list and tuple.\n",
    "Ans- In Python, a tuple is a collection of objects that are ordered and immutable. Tuples are similar to lists, but unlike lists, tuples cannot be\n",
    "modified once they are created.\n",
    "Here are the main differences between lists and tuples:\n",
    "i)  Lists use square brackets []. * Tuples use parentheses ().\n",
    "ii) Lists are mutable, meaning you can modify their contents after creation (e.g., append, insert, remove elements). * Tuples are immutable, meaning\n",
    "    you cannot modify their contents after creation.\"\"\""
   ]
  },
  {
   "cell_type": "code",
   "execution_count": 5,
   "id": "b74019fc-881b-4129-b883-62a390d2b76e",
   "metadata": {},
   "outputs": [
    {
     "name": "stdout",
     "output_type": "stream",
     "text": [
      "(1, 'hello', 3.14, True, [1, 2, 3])\n",
      "Integer: 1\n",
      "String: hello\n",
      "Float: 3.14\n",
      "Boolean: True\n",
      "List: [1, 2, 3]\n"
     ]
    }
   ],
   "source": [
    "\"\"\"44) Write a Python program to create a tuple with different data types. \"\"\"\n",
    "tup = (1, \"hello\", 3.14, True, [1, 2, 3])\n",
    "\n",
    "# Print the tuple\n",
    "print(tup)\n",
    "\n",
    "# Access elements of the tuple\n",
    "print(\"Integer:\", my_tuple[0])\n",
    "print(\"String:\", my_tuple[1])\n",
    "print(\"Float:\", my_tuple[2])\n",
    "print(\"Boolean:\", my_tuple[3])\n",
    "print(\"List:\", my_tuple[4])"
   ]
  },
  {
   "cell_type": "code",
   "execution_count": 7,
   "id": "f60d7c5f-4510-4e2b-9769-bf9afbef8a39",
   "metadata": {},
   "outputs": [
    {
     "name": "stdout",
     "output_type": "stream",
     "text": [
      "List 1: (1, 2, 3, 4)\n",
      "List 2: ('a', 'b', 'c', 'd')\n",
      "List 3: (True, False, True, False)\n"
     ]
    }
   ],
   "source": [
    "\"\"\"45) Write a Python program to unzip a list of tuples into individual lists.\"\"\"\n",
    "tuples_list = [(1, 'a', True), (2, 'b', False), (3, 'c', True), (4, 'd', False)]\n",
    "\n",
    "# Unzip the list of tuples into individual lists\n",
    "list1, list2, list3 = zip(*tuples_list)\n",
    "\n",
    "# Print the individual lists\n",
    "print(\"List 1:\", list1)\n",
    "print(\"List 2:\", list2)\n",
    "print(\"List 3:\", list3)"
   ]
  },
  {
   "cell_type": "code",
   "execution_count": 9,
   "id": "a8c18af4-e180-4d02-891b-eeb3a1f0fd14",
   "metadata": {},
   "outputs": [
    {
     "name": "stdout",
     "output_type": "stream",
     "text": [
      "{'a': 1, 'b': 2, 'c': 3, 'd': 4}\n"
     ]
    }
   ],
   "source": [
    "\"\"\"46) Write a Python program to convert a list of tuples into a dictionary.\"\"\"\n",
    "tuples_list = [(\"a\", 1), (\"b\", 2), (\"c\", 3), (\"d\", 4)]\n",
    "\n",
    "# Convert the list of tuples into a dictionary\n",
    "my_dict = dict(tuples_list)\n",
    "\n",
    "# Print the dictionary\n",
    "print(my_dict)"
   ]
  },
  {
   "cell_type": "code",
   "execution_count": 11,
   "id": "1cf00b51-06a0-4155-993b-477f3421af01",
   "metadata": {},
   "outputs": [
    {
     "name": "stdout",
     "output_type": "stream",
     "text": [
      "{'a': 1, 'b': 2, 'c': 3, 'd': 4}\n"
     ]
    }
   ],
   "source": [
    "\"\"\"47) How will you create a dictionary using tuples in python? \"\"\"\n",
    "tuples = (('a', 1), ('b', 2), ('c', 3), ('d', 4))\n",
    "my_dict = dict(tuples)\n",
    "print(my_dict)"
   ]
  },
  {
   "cell_type": "code",
   "execution_count": 1,
   "id": "1b477818-c957-4487-bfeb-9a1ddad0f68d",
   "metadata": {},
   "outputs": [
    {
     "name": "stdout",
     "output_type": "stream",
     "text": [
      "Sorted dictionary in ascending order:\n",
      "{'date': 1, 'banana': 2, 'apple': 5, 'elderberry': 6, 'cherry': 8}\n",
      "\n",
      "Sorted dictionary in descending order:\n",
      "{'cherry': 8, 'elderberry': 6, 'apple': 5, 'banana': 2, 'date': 1}\n"
     ]
    }
   ],
   "source": [
    "\"\"\"48) Write a Python script to sort (ascending and descending) a dictionary by value. \"\"\"\n",
    "my_dict = {'apple': 5, 'banana': 2, 'cherry': 8, 'date': 1, 'elderberry': 6}\n",
    "\n",
    "sorted_dict_asc = dict(sorted(my_dict.items(), key=lambda item: item[1]))\n",
    "print(\"Sorted dictionary in ascending order:\")\n",
    "print(sorted_dict_asc)\n",
    "\n",
    "sorted_dict_desc = dict(sorted(my_dict.items(), key=lambda item: item[1], reverse=True))\n",
    "print(\"\\nSorted dictionary in descending order:\")\n",
    "print(sorted_dict_desc)"
   ]
  },
  {
   "cell_type": "code",
   "execution_count": 17,
   "id": "8ae1fd64-1b53-4da5-982c-4e9b45914e63",
   "metadata": {},
   "outputs": [
    {
     "name": "stdout",
     "output_type": "stream",
     "text": [
      "{'a': 1, 'b': 2, 'c': 3, 'd': 4, 'e': 5, 'f': 6}\n"
     ]
    }
   ],
   "source": [
    "\"\"\"49) Write a Python script to concatenate following dictionaries to create a new one.\"\"\"\n",
    "dict1 = {'a': 1, 'b': 2, 'c': 3}\n",
    "dict2 = {'d': 4, 'e': 5, 'f': 6}\n",
    "\n",
    "# Concatenate the dictionaries\n",
    "new_dict = {**dict1,**dict2}\n",
    "\n",
    "# Print the new dictionary\n",
    "print(new_dict)"
   ]
  },
  {
   "cell_type": "code",
   "execution_count": 27,
   "id": "58180b10-028d-48c7-bbac-f9d674c1599e",
   "metadata": {},
   "outputs": [
    {
     "name": "stdout",
     "output_type": "stream",
     "text": [
      "The key 'gaurav' does not exist in the dictionary.\n"
     ]
    }
   ],
   "source": [
    "\"\"\"50) Write a Python script to check if a given key already exists in a dictionary.\"\"\"\n",
    "my_dict = {'name': 'John', 'age': 30, 'city': 'Ahmedabad'}\n",
    "\n",
    "key = 'gaurav'\n",
    "\n",
    "if key in my_dict:\n",
    "    print(f\"The key '{key}' exists in the dictionary.\")\n",
    "else:\n",
    "    print(f\"The key '{key}' does not exist in the dictionary.\")"
   ]
  },
  {
   "cell_type": "code",
   "execution_count": null,
   "id": "b4f34e53-da5e-41bf-9401-da253fcb13ed",
   "metadata": {},
   "outputs": [],
   "source": [
    "\"\"\"51) How Do You Traverse Through a Dictionary Object in Python?\n",
    "In Python, We can traverse through a dictionary object using several methods. Here are a few ways to do it:\n",
    "    i) The items() method returns an iterator over the dictionary's key-value pairs.\n",
    "    ii)The keys() method returns an iterator over the dictionary's keys.\n",
    "    iii)The values() method returns an iterator over the dictionary's values.\n",
    "\"\"\""
   ]
  },
  {
   "cell_type": "code",
   "execution_count": null,
   "id": "ee193f58-2117-495e-bbf0-dc2af023dd05",
   "metadata": {},
   "outputs": [],
   "source": [
    "\"\"\"52) How Do You Check the Presence of a Key in A Dictionary?\n",
    "   Ans- by using the 'in' opretor we can check the presence of a key in a Dictionary.\"\"\"\n",
    "#example -\n",
    "my_dict = {'a': 1, 'b': 2, 'c': 3}\n",
    "\n",
    "if 'a' in my_dict:\n",
    "    print(\"Key 'a' is present in the dictionary\")\n",
    "else:\n",
    "    print(\"Key 'a' is not present in the dictionary\")"
   ]
  },
  {
   "cell_type": "code",
   "execution_count": 1,
   "id": "9c803578-2256-43bf-aed9-62d3150227fe",
   "metadata": {},
   "outputs": [
    {
     "name": "stdout",
     "output_type": "stream",
     "text": [
      "My Dictionary:\n",
      "{1: 'Value 1', 2: 'Value 2', 3: 'Value 3', 4: 'Value 4', 5: 'Value 5', 6: 'Value 6', 7: 'Value 7', 8: 'Value 8', 9: 'Value 9', 10: 'Value 10', 11: 'Value 11', 12: 'Value 12', 13: 'Value 13', 14: 'Value 14', 15: 'Value 15'}\n"
     ]
    }
   ],
   "source": [
    "\"\"\"53) Write a Python script to print a dictionary where the keys are numbers between 1 and 15.\"\"\" \n",
    "my_dict = {}\n",
    "\n",
    "# Use a for loop to populate the dictionary with keys from 1 to 15\n",
    "for i in range(1, 16):  # range(1, 16) generates numbers from 1 to 15\n",
    "    my_dict[i] = f\"Value {i}\"  # assign a value to each key\n",
    "\n",
    "# Print the dictionary\n",
    "print(\"My Dictionary:\")\n",
    "print(my_dict)"
   ]
  },
  {
   "cell_type": "code",
   "execution_count": 39,
   "id": "633bdd56-ff22-4284-8d3e-1e72fcffe6b6",
   "metadata": {},
   "outputs": [
    {
     "name": "stdout",
     "output_type": "stream",
     "text": [
      "All keys exist in the dictionary!\n"
     ]
    }
   ],
   "source": [
    "\"\"\"54) Write a Python program to check multiple keys exists in a dictionary\"\"\"\n",
    "my_dict = {'name': 'mona', 'age': 22, 'city': 'ahmedabad'}\n",
    "\n",
    "keys = [\"name\", \"age\"]\n",
    "\n",
    "all_keys_exist = True\n",
    "\n",
    "for key in keys:\n",
    "    # Check if the key exists in the dictionary\n",
    "    if key not in my_dict:\n",
    "        print(f\"The key '{key}' does not exist in the dictionary.\")\n",
    "        all_keys_exist = False\n",
    "\n",
    "# Print the result\n",
    "if all_keys_exist:\n",
    "    print(\"All keys exist in the dictionary!\")\n",
    "else:\n",
    "    print(\"Not all keys exist in the dictionary.\")"
   ]
  },
  {
   "cell_type": "code",
   "execution_count": 35,
   "id": "b0f9315f-cca0-460f-a09f-165b13ab280f",
   "metadata": {},
   "outputs": [
    {
     "name": "stdout",
     "output_type": "stream",
     "text": [
      "{'a': 1, 'b': 2, 'c': 4, 'd': 5, 'e': 6}\n"
     ]
    }
   ],
   "source": [
    "\"\"\"55) Write a Python script to merge two Python dictionaries \"\"\"\n",
    "\n",
    "dict1 = {'a': 1, 'b': 2, 'c': 3}\n",
    "dict2 = {'c': 4, 'd': 5, 'e': 6}\n",
    "\n",
    "new_dict = dict1.copy()\n",
    "new_dict.update(dict2)\n",
    "\n",
    "print(new_dict)"
   ]
  },
  {
   "cell_type": "code",
   "execution_count": 33,
   "id": "f878a55a-cc4e-4929-9e71-410f028410f9",
   "metadata": {},
   "outputs": [
    {
     "name": "stdout",
     "output_type": "stream",
     "text": [
      "{'a': 400, 'b': 400, 'c': 300, 'd': 400}\n"
     ]
    }
   ],
   "source": [
    "\"\"\"56) Write a Python program to map two lists into a dictionary \n",
    "    Sample output: Counter ({'a': 400, 'b': 400,’d’: 400, 'c': 300}).\"\"\"\n",
    "\n",
    "keys = ['a', 'b', 'c', 'd']\n",
    "values = [400, 400, 300, 400]\n",
    "\n",
    "result = {}\n",
    "\n",
    "for key, value in zip(keys, values):\n",
    "    result[key] = value\n",
    "\n",
    "print(result)"
   ]
  },
  {
   "cell_type": "code",
   "execution_count": 31,
   "id": "b2361115-0109-490e-bece-126d5c71ac5f",
   "metadata": {},
   "outputs": [
    {
     "name": "stdout",
     "output_type": "stream",
     "text": [
      "item3: 750\n",
      "item5: 600\n",
      "item1: 400\n"
     ]
    }
   ],
   "source": [
    "\"\"\"57) Write a Python program to find the highest 3 values in a dictionary\"\"\"\n",
    "\n",
    "data = {'item1': 400, 'item2': 300, 'item3': 750, 'item4': 200, 'item5': 600}\n",
    "\n",
    "pairs = list(data.items())\n",
    "\n",
    "pairs.sort(key=lambda x: x[1], reverse=True)\n",
    "\n",
    "top_3 = pairs[:3]\n",
    "\n",
    "for item, value in top_3:\n",
    "    print(f\"{item}: {value}\")"
   ]
  },
  {
   "cell_type": "code",
   "execution_count": 29,
   "id": "2b4f86f9-24eb-4423-a342-6516470357a7",
   "metadata": {},
   "outputs": [
    {
     "name": "stdout",
     "output_type": "stream",
     "text": [
      "{'item1': 1150, 'item2': 300}\n"
     ]
    }
   ],
   "source": [
    "\"\"\"58) Write a Python program to combine values in python list of dictionaries. \n",
    "Sample data: [{'item': 'item1', 'amount': 400}, {'item': 'item2', 'amount': 300}, o {'item': 'item1', 'amount': 750}] \n",
    "Expected Output: • Counter ({'item1': 1150, 'item2': 300})\"\"\"\n",
    "\n",
    "data = [{'item': 'item1', 'amount': 400}, \n",
    "        {'item': 'item2', 'amount': 300}, \n",
    "        {'item': 'item1', 'amount': 750}]\n",
    "\n",
    "# Create an empty dictionary to store the combined amounts\n",
    "result = {}\n",
    "\n",
    "# Iterate over the list of dictionaries\n",
    "for d in data:\n",
    "    # Get the item and amount from each dictionary\n",
    "    item = d['item']\n",
    "    amount = d['amount']\n",
    "\n",
    "    # Check if the item is already in the result dictionary\n",
    "    if item in result:\n",
    "        # If it is, add the amount to the existing value\n",
    "        result[item] += amount\n",
    "    else:\n",
    "        # If not, add the item to the dictionary with its amount\n",
    "        result[item] = amount\n",
    "\n",
    "# Print the resulting dictionary\n",
    "print(result)"
   ]
  },
  {
   "cell_type": "code",
   "execution_count": 1,
   "id": "9d9ca1a4-9958-431d-9454-51eae16c4a6c",
   "metadata": {},
   "outputs": [
    {
     "name": "stdin",
     "output_type": "stream",
     "text": [
      "Enter a string:  gaurav suthar\n"
     ]
    },
    {
     "name": "stdout",
     "output_type": "stream",
     "text": [
      "Letter counts:\n",
      "g: 1\n",
      "a: 3\n",
      "u: 2\n",
      "r: 2\n",
      "v: 1\n",
      " : 1\n",
      "s: 1\n",
      "t: 1\n",
      "h: 1\n"
     ]
    }
   ],
   "source": [
    "\"\"\"59) Write a Python program to create a dictionary from a string. \n",
    "Note: Track the count of the letters from the string.\"\"\"\n",
    "# Get the input string from the user\n",
    "string_input = input(\"Enter a string: \")\n",
    "\n",
    "# Create an empty dictionary to store the letter counts\n",
    "letter_counts = {}\n",
    "\n",
    "# Iterate over each character in the input string\n",
    "for char in string_input:\n",
    "    # Check if the character is already in the dictionary\n",
    "    if char in letter_counts:\n",
    "        # If it is, increment its count by 1\n",
    "        letter_counts[char] += 1\n",
    "    else:\n",
    "        # If it's not, add it to the dictionary with a count of 1\n",
    "        letter_counts[char] = 1\n",
    "\n",
    "# Print the resulting dictionary\n",
    "print(\"Letter counts:\")\n",
    "for key, value in letter_counts.items():\n",
    "    print(f\"{key}: {value}\")\n"
   ]
  },
  {
   "cell_type": "code",
   "execution_count": 3,
   "id": "75277bb0-957f-4dc9-a60c-d90adb37867f",
   "metadata": {},
   "outputs": [
    {
     "name": "stdout",
     "output_type": "stream",
     "text": [
      "{'w': 1, '3': 1, 'r': 2, 'e': 2, 's': 1, 'o': 1, 'u': 1, 'c': 1}\n"
     ]
    }
   ],
   "source": [
    "\"\"\"60) Sample string:\n",
    " 'w3resource' Expected output: \n",
    "• {'3': 1,’s’: 1, 'r': 2, 'u': 1, 'w': 1, 'c': 1, 'e': 2, 'o': 1} \"\"\"\n",
    "sample_string = 'w3resource'\n",
    "\n",
    "char_frequency = {}\n",
    "for char in sample_string:\n",
    "    if char in char_frequency:\n",
    "        char_frequency[char] += 1\n",
    "    else:\n",
    "        char_frequency[char] = 1\n",
    "\n",
    "print(char_frequency)"
   ]
  },
  {
   "cell_type": "code",
   "execution_count": 9,
   "id": "4af8563d-640e-4337-b812-486b9c48ad64",
   "metadata": {},
   "outputs": [
    {
     "name": "stdin",
     "output_type": "stream",
     "text": [
      "enter a number 3\n"
     ]
    },
    {
     "data": {
      "text/plain": [
       "6"
      ]
     },
     "execution_count": 9,
     "metadata": {},
     "output_type": "execute_result"
    }
   ],
   "source": [
    "\"\"\"61) Write a Python function to calculate the factorial of a number (a nonnegative integer)\"\"\"\n",
    "import math\n",
    "number = int(input(\"enter a number\"))\n",
    "fa = math.factorial(number)\n",
    "fa"
   ]
  },
  {
   "cell_type": "code",
   "execution_count": 29,
   "id": "672d478d-0306-48f2-9235-baeccfa0440f",
   "metadata": {},
   "outputs": [
    {
     "data": {
      "text/plain": [
       "True"
      ]
     },
     "execution_count": 29,
     "metadata": {},
     "output_type": "execute_result"
    }
   ],
   "source": [
    "\"\"\"62) Write a Python function to check whether a number is in a given range\"\"\"\n",
    "def a_range(num,start,end):\n",
    "    \"\"\"return True if num in range(start,end), False otherwise\"\"\"\n",
    "    return start<num<end\n",
    "\n",
    "a_range(9,1,10)"
   ]
  },
  {
   "cell_type": "code",
   "execution_count": 51,
   "id": "c5f33bf1-1fde-4a6f-823b-ca8d835343ac",
   "metadata": {},
   "outputs": [
    {
     "data": {
      "text/plain": [
       "True"
      ]
     },
     "execution_count": 51,
     "metadata": {},
     "output_type": "execute_result"
    }
   ],
   "source": [
    "\"\"\"63) Write a Python function to check whether a number is perfect or not.\"\"\"\n",
    "def is_perfect(n):\n",
    "    sum = 0\n",
    "    for x in range(1, n):\n",
    "        if n % x == 0:\n",
    "            sum += x\n",
    "    return sum == n\n",
    "\n",
    "\n",
    "is_perfect(28)"
   ]
  },
  {
   "cell_type": "code",
   "execution_count": 61,
   "id": "8eec10eb-5ca2-407c-8104-21fcc8fe0843",
   "metadata": {},
   "outputs": [
    {
     "data": {
      "text/plain": [
       "True"
      ]
     },
     "execution_count": 61,
     "metadata": {},
     "output_type": "execute_result"
    }
   ],
   "source": [
    "\"\"\"64) Write a Python function that checks whether a passed string is palindrome or not\"\"\"\n",
    "def is_palindrome(s):\n",
    "    \"\"\"\n",
    "    Returns True if s is a palindrome, False otherwise.\n",
    "    \"\"\"\n",
    "    return s == s[::-1]\n",
    "\n",
    "is_palindrome(\"1\")"
   ]
  },
  {
   "cell_type": "code",
   "execution_count": null,
   "id": "06a77d4b-749e-45f0-9d92-ed33c07a2371",
   "metadata": {},
   "outputs": [],
   "source": [
    "\"\"\"65) How Many Basic Types of Functions Are Available in Python?\n",
    "Ans- there are two types of function are available in python-\n",
    "    i) Build in Function\n",
    "    ii)User define function"
   ]
  },
  {
   "cell_type": "code",
   "execution_count": 7,
   "id": "fd15ca07-f607-4b00-ab30-2ef452f8f1ef",
   "metadata": {},
   "outputs": [
    {
     "name": "stdout",
     "output_type": "stream",
     "text": [
      "Random item from the list: 1\n"
     ]
    }
   ],
   "source": [
    "\"\"\"66) How can you pick a random item from a list or tuple?\"\"\"\n",
    "import random\n",
    "\n",
    "my_list = [1, 2, 3, 4, 5]\n",
    "random_item = random.choice(my_list)\n",
    "\n",
    "print(\"Random item from the list:\", random_item)"
   ]
  },
  {
   "cell_type": "code",
   "execution_count": 19,
   "id": "cde2d39d-4125-435a-ac62-e1db4cddc34a",
   "metadata": {},
   "outputs": [
    {
     "name": "stdout",
     "output_type": "stream",
     "text": [
      "Random item from the range: 5\n"
     ]
    }
   ],
   "source": [
    "\"\"\"67) How can you pick a random item from a range? \"\"\"\n",
    "import random\n",
    "\n",
    "start = 1\n",
    "end = 10\n",
    "random_item = random.randint(start, end)\n",
    "\n",
    "print(\"Random item from the range:\", random_item)"
   ]
  },
  {
   "cell_type": "code",
   "execution_count": null,
   "id": "3a075873-5090-4be3-b488-6c0fa198f3d4",
   "metadata": {},
   "outputs": [],
   "source": [
    "\"\"\"68) How can you get a random number in python?\n",
    "    Ans- by using the rendom module, we can get rendom number in python\n",
    "\"\"\""
   ]
  },
  {
   "cell_type": "code",
   "execution_count": 34,
   "id": "25cad1f4-c003-49ac-abdb-9b10e3c35758",
   "metadata": {},
   "outputs": [
    {
     "name": "stdout",
     "output_type": "stream",
     "text": [
      "7\n"
     ]
    }
   ],
   "source": [
    "\"\"\"69) How will you set the starting value in generating random numbers? \n",
    "To set the starting value in generating random numbers, you can use a technique called \"seeding\" the random number generator. This ensures that the \n",
    "sequence of random numbers starts from a specific point, allowing you to reproduce the same sequence if needed.\n",
    "\"\"\"\n",
    "import random\n",
    "\n",
    "seed_value = 123 # Set the seed value\n",
    "\n",
    "random.seed(seed_value) # Seed the random number generator\n",
    "\n",
    "random_number = random.randint(1, 100) # Generate a random number\n",
    "\n",
    "print(random_number)"
   ]
  },
  {
   "cell_type": "code",
   "execution_count": 58,
   "id": "1af2cd25-25a2-4002-84d6-5e97e9fda7a1",
   "metadata": {},
   "outputs": [
    {
     "name": "stdout",
     "output_type": "stream",
     "text": [
      "['aman', 'anup', 'eric', 'gaurav']\n"
     ]
    }
   ],
   "source": [
    "\"\"\"70) How will you randomize the items of a list in place?\"\"\"\n",
    "g = [\"gaurav\",\"aman\",\"eric\",\"anup\"]\n",
    "random.shuffle(g)\n",
    "print(g)"
   ]
  },
  {
   "cell_type": "code",
   "execution_count": null,
   "id": "675108d9-3d5d-4d49-aaea-42f9b9190261",
   "metadata": {},
   "outputs": [],
   "source": [
    "\"\"\"71) What is File function in python? What are keywords to create and write file.\n",
    "Ans - The file function in Python is used to create a file object, which can be used to read from or write to a file.\n",
    "    To create and write to a file in Python, you can use the following keywords:\n",
    "    open(): This function is used to open a file and return a file object.\n",
    "    write(): This method is used to write a string to the file.\n",
    "    writelines(): This method is used to write a list of strings to the file.\n",
    "    close(): This method is used to close the file.\n",
    "\"\"\""
   ]
  },
  {
   "cell_type": "code",
   "execution_count": 1,
   "id": "79c6038a-94fd-4e26-81e4-f3d94eaaaa47",
   "metadata": {},
   "outputs": [
    {
     "name": "stdin",
     "output_type": "stream",
     "text": [
      "Enter the filename:  grv\n"
     ]
    },
    {
     "name": "stdout",
     "output_type": "stream",
     "text": [
      "Sorry, the file does not exist.\n"
     ]
    }
   ],
   "source": [
    "\"\"\"72) Write a Python program to read an entire text file.\"\"\"\n",
    "filename = input(\"Enter the filename: \")\n",
    "\n",
    "# Try to open the file\n",
    "try:\n",
    "    file = open(filename, 'r')\n",
    "\n",
    "    # Read the entire file\n",
    "    content = file.read()\n",
    "    print(\"File content:\")\n",
    "    print(content)\n",
    "    file.close()\n",
    "\n",
    "except FileNotFoundError:\n",
    "    print(\"Sorry, the file does not exist.\")"
   ]
  },
  {
   "cell_type": "code",
   "execution_count": null,
   "id": "ed5cb001-4e36-4695-87cc-aeb940f8ce96",
   "metadata": {},
   "outputs": [],
   "source": [
    "\"\"\"73) Write a Python program to append text to a file and display the text. \"\"\"\n",
    "filename = input(\"Enter a filename: \")\n",
    "\n",
    "text_to_append = input(\"Enter the text to append: \")\n",
    "with open(filename, \"a\") as file:\n",
    "    file.write(text_to_append + \"\\n\")\n",
    "\n",
    "with open(filename, \"r\") as file:\n",
    "    file_content = file.read()\n",
    "\n",
    "print(\"File content:\")\n",
    "print(file_content)"
   ]
  },
  {
   "cell_type": "code",
   "execution_count": null,
   "id": "b5f4f257-2475-4ef9-b478-44ca2ca761e6",
   "metadata": {},
   "outputs": [],
   "source": [
    "\"\"\"74) Write a Python program to read first n lines of a file. \"\"\"\n",
    "filename = input(\"Enter a filename: \")\n",
    "\n",
    "n = int(input(\"Enter the number of lines to read: \"))\n",
    "\n",
    "with open(filename, \"r\") as file:\n",
    "    lines = [next(file) for _ in range(n)]\n",
    "\n",
    "print(\"First\", n, \"lines of the file:\")\n",
    "for line in lines:\n",
    "    print(line.strip())\n"
   ]
  },
  {
   "cell_type": "code",
   "execution_count": null,
   "id": "f21f25be-2727-496e-a2b1-feb051a8b9be",
   "metadata": {},
   "outputs": [],
   "source": [
    "\"\"\"75) Write a Python program to read last n lines of a file. \"\"\"\n",
    "filename = input(\"Enter a filename: \")\n",
    "\n",
    "n = int(input(\"Enter the number of lines to read: \"))\n",
    "\n",
    "with open(filename, \"r\") as file:\n",
    "    lines = file.readlines()\n",
    "\n",
    "last_n_lines = lines[-n:]\n",
    "\n",
    "print(\"Last\", n, \"lines of the file:\")\n",
    "for line in last_n_lines:\n",
    "    print(line.strip())"
   ]
  },
  {
   "cell_type": "code",
   "execution_count": null,
   "id": "478bf516-9167-45ea-be4f-561198d2f906",
   "metadata": {},
   "outputs": [],
   "source": [
    "\"\"\"76) Write a Python program to read a file line by line and store it into a list \"\"\"\n",
    "filename = input(\"Enter a filename: \")\n",
    "\n",
    "lines = []\n",
    "\n",
    "with open(filename, \"r\") as file:\n",
    "    for line in file:\n",
    "        lines.append(line.strip())\n",
    "\n",
    "print(\"Lines in the file:\")\n",
    "for i, line in enumerate(lines, 1):\n",
    "    print(f\"Line {i}: {line}\")"
   ]
  },
  {
   "cell_type": "code",
   "execution_count": null,
   "id": "4f898b84-23cd-4474-86dd-ce99e1875a93",
   "metadata": {},
   "outputs": [],
   "source": [
    "\"\"\"77) Write a Python program to read a file line by line store it into a variable. \"\"\"\n",
    "filename = input(\"Enter a filename: \")\n",
    "\n",
    "with open(filename, \"r\") as file:\n",
    "    for line_number, line in enumerate(file, 1):\n",
    "        line = line.strip()\n",
    "        print(f\"Line {line_number}: {line}\")\n",
    "        line_variable = line\n",
    "        print(f\"Line {line_number} stored in variable: {line_variable}\")"
   ]
  },
  {
   "cell_type": "code",
   "execution_count": 3,
   "id": "75ea738e-351b-474d-8d8d-eb5a93dcaf0e",
   "metadata": {},
   "outputs": [
    {
     "name": "stdin",
     "output_type": "stream",
     "text": [
      "Enter a sentence:  gaurav suthar \n"
     ]
    },
    {
     "name": "stdout",
     "output_type": "stream",
     "text": [
      "The longest word is: gaurav\n"
     ]
    }
   ],
   "source": [
    "\"\"\"78) Write a python program to find the longest words.\"\"\"\n",
    "sentence = input(\"Enter a sentence: \")\n",
    "words = sentence.split()\n",
    "\n",
    "long = \"\"\n",
    "max = 0\n",
    "\n",
    "for word in words:\n",
    "    if len(word) > max:\n",
    "        max = len(word)\n",
    "        long = word\n",
    "print(\"The longest word is:\",long)"
   ]
  },
  {
   "cell_type": "code",
   "execution_count": null,
   "id": "b060a1e1-a7e3-485b-8d89-b4f7ac917f10",
   "metadata": {},
   "outputs": [],
   "source": [
    "\"\"\"79) Write a Python program to count the number of lines in a text file. \"\"\"\n",
    "filename = input(\"Enter a filename: \")\n",
    "\n",
    "line_count = 0\n",
    "\n",
    "with open(filename, \"r\") as file:\n",
    "    for line in file:\n",
    "        line_count += 1\n",
    "\n",
    "print(f\"The file {filename} has {line_count} lines.\")"
   ]
  },
  {
   "cell_type": "code",
   "execution_count": 5,
   "id": "efa9544e-0533-4f49-8998-2745b34ccd7f",
   "metadata": {},
   "outputs": [
    {
     "name": "stdin",
     "output_type": "stream",
     "text": [
      "Enter the file name:  grv\n"
     ]
    },
    {
     "name": "stdout",
     "output_type": "stream",
     "text": [
      "Sorry, the file grv does not exist.\n"
     ]
    }
   ],
   "source": [
    "\"\"\"80) Write a Python program to count the frequency of words in a file. \"\"\"\n",
    "def count_word_frequency(file_name):\n",
    "    try:\n",
    "        with open(file_name, 'r') as file:\n",
    "            text = file.read().lower().split()\n",
    "            word_frequency = {}\n",
    "            for word in text:\n",
    "                word = word.strip('.,!?\"();:')\n",
    "                if word in word_frequency:\n",
    "                    word_frequency[word] += 1\n",
    "                else:\n",
    "                    word_frequency[word] = 1\n",
    "            return word_frequency\n",
    "    except FileNotFoundError:\n",
    "        print(f\"Sorry, the file {file_name} does not exist.\")\n",
    "        return None\n",
    "\n",
    "file_name = input(\"Enter the file name: \")\n",
    "word_frequency = count_word_frequency(file_name)\n",
    "\n",
    "if word_frequency:\n",
    "    print(\"Word Frequency:\")\n",
    "    for word, frequency in word_frequency.items():\n",
    "        print(f\"{word}: {frequency}\")"
   ]
  },
  {
   "cell_type": "code",
   "execution_count": 7,
   "id": "a4586697-d458-4240-83d8-68c8da1a9bdd",
   "metadata": {},
   "outputs": [
    {
     "name": "stdout",
     "output_type": "stream",
     "text": [
      "List written to my_list.txt successfully!\n"
     ]
    }
   ],
   "source": [
    "\"\"\"81) Write a Python program to write a list to a file. \"\"\"\n",
    "my_list = [1, 2, 3, 4, 5, \"hello\", \"world\", \"python\", \"programming\"]\n",
    "file_name = \"my_list.txt\"\n",
    "\n",
    "try:\n",
    "    with open(file_name, 'w') as file:\n",
    "        for item in my_list:\n",
    "            file.write(str(item) + \"\\n\")\n",
    "    print(f\"List written to {file_name} successfully!\")\n",
    "except Exception as e:\n",
    "    print(f\"An error occurred: {e}\")"
   ]
  },
  {
   "cell_type": "code",
   "execution_count": 9,
   "id": "fc9c11d2-88c8-48a4-882a-8c64b2dd2753",
   "metadata": {},
   "outputs": [
    {
     "name": "stdout",
     "output_type": "stream",
     "text": [
      "Source file source.txt not found.\n"
     ]
    }
   ],
   "source": [
    "\"\"\"82) Write a Python program to copy the contents of a file to another file.\"\"\"\n",
    "source_file_name = \"source.txt\"\n",
    "destination_file_name = \"destination.txt\"\n",
    "\n",
    "try:\n",
    "    with open(source_file_name, 'r') as source_file:\n",
    "        with open(destination_file_name, 'w') as destination_file:\n",
    "            destination_file.write(source_file.read())\n",
    "    print(f\"Contents of {source_file_name} copied to {destination_file_name} successfully!\")\n",
    "except FileNotFoundError:\n",
    "    print(f\"Source file {source_file_name} not found.\")\n",
    "except Exception as e:\n",
    "    print(f\"An error occurred: {e}\")"
   ]
  },
  {
   "cell_type": "code",
   "execution_count": null,
   "id": "4c1bd5cd-7e04-45c4-a0f8-8aaa4e8ee7e1",
   "metadata": {},
   "outputs": [],
   "source": [
    "\"\"\"83) Explain Exception handling? What is an Error in Python?\n",
    "    Ans - Exception handling is a mechanism in Python (and other programming languages) that allows us to anticipate, detect, and respond to errors or\n",
    "    unexpected events that occur during the execution of our program. It's a way to handle situations that might cause our program to crash or behave\n",
    "    unexpectedly.\n",
    "    In Python, exceptions are raised when an error occurs, and they can be caught and handled using try-except blocks.\n",
    "\"\"\""
   ]
  },
  {
   "cell_type": "code",
   "execution_count": 1,
   "id": "591d5abf-595e-4256-a77b-b0150138792a",
   "metadata": {},
   "outputs": [
    {
     "data": {
      "text/plain": [
       "\"84) How many except statements can a try-except block have? Name Some built-in exception classes:\\nHere are some built-in exception classes in Python:\\n\\nArithmeticError: Raised when an arithmetic operation fails, such as division by zero.\\nAssertionError: Raised when an assertion statement fails.\\nAttributeError: Raised when an attribute is not found.\\nBufferError: Raised when a buffer operation fails.\\nEOFError: Raised when the end of a file is reached unexpectedly.\\nImportError: Raised when there's an error importing a module.\\nLookupError: Raised when a key or index is not found.\\nMemoryError: Raised when there's a memory allocation error.\\nNameError: Raised when a variable is not found.\\nOSError: Raised when there's an operating system error.\\nReferenceError: Raised when a weak reference proxy is used to access a deleted object.\\nRuntimeError: Raised when an error occurs during the execution of the program.\\nSyntaxError: Raised when there's a syntax error in the code.\\nSystemError: Raised when there's a system error.\\nTypeError: Raised when there's a type mismatch or invalid operation.\\nValueError: Raised when a function or operation receives an invalid argument.\\nWarning: The base class for all warning exceptions.\\n\""
      ]
     },
     "execution_count": 1,
     "metadata": {},
     "output_type": "execute_result"
    }
   ],
   "source": [
    "\"\"\"84) How many except statements can a try-except block have? Name Some built-in exception classes:\n",
    "Here are some built-in exception classes in Python:\n",
    "\n",
    "ArithmeticError: Raised when an arithmetic operation fails, such as division by zero.\n",
    "AssertionError: Raised when an assertion statement fails.\n",
    "AttributeError: Raised when an attribute is not found.\n",
    "BufferError: Raised when a buffer operation fails.\n",
    "EOFError: Raised when the end of a file is reached unexpectedly.\n",
    "ImportError: Raised when there's an error importing a module.\n",
    "LookupError: Raised when a key or index is not found.\n",
    "MemoryError: Raised when there's a memory allocation error.\n",
    "NameError: Raised when a variable is not found.\n",
    "OSError: Raised when there's an operating system error.\n",
    "ReferenceError: Raised when a weak reference proxy is used to access a deleted object.\n",
    "RuntimeError: Raised when an error occurs during the execution of the program.\n",
    "SyntaxError: Raised when there's a syntax error in the code.\n",
    "SystemError: Raised when there's a system error.\n",
    "TypeError: Raised when there's a type mismatch or invalid operation.\n",
    "ValueError: Raised when a function or operation receives an invalid argument.\n",
    "Warning: The base class for all warning exceptions.\n",
    "\"\"\" \n"
   ]
  },
  {
   "cell_type": "code",
   "execution_count": 11,
   "id": "ae61e3ab-fcd5-44a7-8cbd-8a0e78da20e5",
   "metadata": {},
   "outputs": [
    {
     "name": "stdout",
     "output_type": "stream",
     "text": [
      "Division successful! Result: 3.5\n"
     ]
    }
   ],
   "source": [
    "\"\"\"85) When will the else part of try-except-else be executed? \"\"\"\n",
    "try:\n",
    "    x = 7 / 2  \n",
    "except ZeroDivisionError:\n",
    "    print(\"Error: Cannot divide by zero!\")\n",
    "else:\n",
    "    print(\"Division successful! Result:\", x)"
   ]
  },
  {
   "cell_type": "code",
   "execution_count": 5,
   "id": "20533413-a1ee-4ea3-9d50-37477efd4cd3",
   "metadata": {},
   "outputs": [
    {
     "name": "stdout",
     "output_type": "stream",
     "text": [
      "An error occurred!\n"
     ]
    }
   ],
   "source": [
    "\"\"\"86) Can one block of except statements handle multiple exception? \"\"\"\n",
    "try:\n",
    "    x = 5 / 0\n",
    "except (ZeroDivisionError, TypeError, ValueError):\n",
    "    print(\"An error occurred!\")"
   ]
  },
  {
   "cell_type": "code",
   "execution_count": 7,
   "id": "337ca86a-8cfb-4c7e-8861-3dc56e162e22",
   "metadata": {},
   "outputs": [
    {
     "name": "stdout",
     "output_type": "stream",
     "text": [
      "Try block\n",
      "Finally block\n"
     ]
    }
   ],
   "source": [
    "\"\"\"87) When is the finally block executed?\"\"\"\n",
    "try:\n",
    "    print(\"Try block\")\n",
    "except ValueError:\n",
    "    print(\"Except block\")\n",
    "finally:\n",
    "    print(\"Finally block\")"
   ]
  },
  {
   "cell_type": "code",
   "execution_count": 13,
   "id": "cb5f0c6b-178c-47cd-8662-bc312855ba0d",
   "metadata": {},
   "outputs": [
    {
     "name": "stdout",
     "output_type": "stream",
     "text": [
      "False\n"
     ]
    }
   ],
   "source": [
    "\"\"\"88) What happens when „1‟== 1 is executed? \"\"\"\n",
    "'''When „1‟ == 1 is executed in Python, it evaluates to False. \n",
    "This is because the string \"1\" is not equal to the integer 1'''\n",
    "print(\"„1‟\" == 1)  # Output: False"
   ]
  },
  {
   "cell_type": "code",
   "execution_count": 3,
   "id": "ab59ca28-f73d-40fd-a703-5e10270d6ac6",
   "metadata": {},
   "outputs": [
    {
     "name": "stdout",
     "output_type": "stream",
     "text": [
      "Error: Cannot divide by zero!\n",
      "Finally block executed\n"
     ]
    }
   ],
   "source": [
    "\"\"\"89) How Do You Handle Exceptions with Try/Except/Finally in Python? Explain with coding snippets.\"\"\" \n",
    "try:\n",
    "    # Risky code that might raise an exception\n",
    "    x = 5 / 0\n",
    "except ZeroDivisionError:\n",
    "    # Catch the ZeroDivisionError exception\n",
    "    print(\"Error: Cannot divide by zero!\")\n",
    "finally:\n",
    "    # Always execute this code, regardless of exception\n",
    "    print(\"Finally block executed\")"
   ]
  },
  {
   "cell_type": "code",
   "execution_count": 17,
   "id": "9f80af8c-f7e0-4df0-aa50-d18f73f28203",
   "metadata": {},
   "outputs": [
    {
     "name": "stdin",
     "output_type": "stream",
     "text": [
      "Enter an odd number:  3\n"
     ]
    },
    {
     "name": "stdout",
     "output_type": "stream",
     "text": [
      "You entered the odd number: 3\n"
     ]
    }
   ],
   "source": [
    "\"\"\"90) Write python program that user to enter only odd numbers, else will raise an exception.\"\"\" \n",
    "while True:\n",
    "    try:\n",
    "        number = int(input(\"Enter an odd number: \"))\n",
    "        if number % 2 == 0:\n",
    "            raise ValueError(\"The number must be odd\")\n",
    "        break\n",
    "    except ValueError as e:\n",
    "        print(f\"Error: {e}\")\n",
    "\n",
    "print(\"You entered the odd number:\", number)"
   ]
  },
  {
   "cell_type": "code",
   "execution_count": null,
   "id": "cd6a22fe-b01a-4a9d-9c20-2b483467f4da",
   "metadata": {},
   "outputs": [],
   "source": []
  }
 ],
 "metadata": {
  "kernelspec": {
   "display_name": "Python 3 (ipykernel)",
   "language": "python",
   "name": "python3"
  },
  "language_info": {
   "codemirror_mode": {
    "name": "ipython",
    "version": 3
   },
   "file_extension": ".py",
   "mimetype": "text/x-python",
   "name": "python",
   "nbconvert_exporter": "python",
   "pygments_lexer": "ipython3",
   "version": "3.11.7"
  }
 },
 "nbformat": 4,
 "nbformat_minor": 5
}
